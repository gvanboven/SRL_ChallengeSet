{
 "cells": [
  {
   "cell_type": "markdown",
   "metadata": {},
   "source": [
    "# SRL negation experiments\n",
    "\n",
    "In this notebook I carry out experiments to test whether two Semantic Role Labelling (SRL) systems can correctly identify patients in sentences with varying structures. This code was based on code provided by Pia Sommerauer.\n",
    "\n",
    "In this code I load two models, namely the AllenNLP SRL model and the AllenNLP SRL BERT model. I create a variety of tets cases, for wich I evaluate the performance of the two models. All the test sentences are stored in a json file specified through the `test_sents_path` variable. The SRL predictions are stored in the json file specified through `srl_pred_path`, and similarly the SRL BERT predictions are stored at the path `bert_pred_path`.\n",
    "\n",
    "### Negation - invariance test\n",
    "* Agent: '`first_name` did `activity`' vs. '`first_name` did not do `activity`'\n",
    "* Patient: '`name1` hit `name2` yesterday' vs. '`name1` didn't hit `name2` yesterday\n",
    "* Instrument: `name1` killed `name2` with a `instrument` vs. `name1` shouldn't kill `name2` with a `instrument`\n",
    "* Location: `name1` hit `name2` `location` vs. `name1` wouldn't hit `name2` `location`\n",
    "* Manner: `name1` stopped the ball `manner` vs. `name1` could not stop the ball `manner`\n"
   ]
  },
  {
   "cell_type": "code",
   "execution_count": 1,
   "metadata": {},
   "outputs": [],
   "source": [
    "from allennlp_models.pretrained import load_predictor"
   ]
  },
  {
   "cell_type": "code",
   "execution_count": 2,
   "metadata": {},
   "outputs": [],
   "source": [
    "import checklist\n",
    "from checklist.editor import Editor\n",
    "from checklist.perturb import Perturb\n",
    "from checklist.test_types import MFT, INV, DIR\n",
    "from checklist.expect import Expect"
   ]
  },
  {
   "cell_type": "code",
   "execution_count": 3,
   "metadata": {},
   "outputs": [],
   "source": [
    "from checklist.pred_wrapper import PredictorWrapper"
   ]
  },
  {
   "cell_type": "code",
   "execution_count": 4,
   "metadata": {},
   "outputs": [],
   "source": [
    "import json\n",
    "import logging\n",
    "logger = logging.getLogger()\n",
    "logger.setLevel(logging.CRITICAL)"
   ]
  },
  {
   "cell_type": "code",
   "execution_count": 5,
   "metadata": {},
   "outputs": [],
   "source": [
    "from utils_functions import *"
   ]
  },
  {
   "cell_type": "markdown",
   "metadata": {},
   "source": [
    "### Load the models "
   ]
  },
  {
   "cell_type": "code",
   "execution_count": null,
   "metadata": {},
   "outputs": [],
   "source": [
    "# load the regular SRL model\n",
    "srl_predictor = load_predictor('structured-prediction-srl')\n",
    "# load the SRL BERT model\n",
    "srlbert_predictor = load_predictor('structured-prediction-srl-bert')"
   ]
  },
  {
   "cell_type": "code",
   "execution_count": 7,
   "metadata": {},
   "outputs": [],
   "source": [
    "#functions to create model predictions for a list containing sentences\n",
    "### added by pia, edited by Goya ###\n",
    "\n",
    "def predict_srl(data):\n",
    "    pred = []\n",
    "    for d in data:\n",
    "        pred.append(srl_predictor.predict(d))\n",
    "    return pred\n",
    "\n",
    "\n",
    "def predict_srlbert(data):\n",
    "    pred = []\n",
    "    for d in data:\n",
    "        pred.append(srlbert_predictor.predict(d))\n",
    "    return pred\n",
    "\n",
    "predict_srl = PredictorWrapper.wrap_predict(predict_srl)\n",
    "predict_srlbert = PredictorWrapper.wrap_predict(predict_srlbert)"
   ]
  },
  {
   "cell_type": "markdown",
   "metadata": {},
   "source": [
    "### Define output file paths"
   ]
  },
  {
   "cell_type": "code",
   "execution_count": 8,
   "metadata": {},
   "outputs": [],
   "source": [
    "#create lists to store test sentences and model predictions in \n",
    "test_data = []\n",
    "SRLBERT_predictions = []\n",
    "SRL_predictions = []"
   ]
  },
  {
   "cell_type": "code",
   "execution_count": 9,
   "metadata": {},
   "outputs": [],
   "source": [
    "#define paths to output files\n",
    "test_sents_path = './JSON_test_and_predict_files/test_data_negation.json'\n",
    "bert_pred_path = './JSON_test_and_predict_files/BERT_predictions_negation.json'\n",
    "srl_pred_path = './JSON_test_and_predict_files/SRL_predictions_negation.json'\n",
    "\n",
    "#set name of current capability\n",
    "capability = 'negation'"
   ]
  },
  {
   "cell_type": "markdown",
   "metadata": {},
   "source": [
    "### Load Checklist tests (Load functions defined in utils)\n",
    "Load functions to test arguments are correctly identified"
   ]
  },
  {
   "cell_type": "code",
   "execution_count": 10,
   "metadata": {},
   "outputs": [],
   "source": [
    "expect_arg0_verb0 = Expect.single(found_arg0_verb0)\n",
    "expect_arg0_verb1 = Expect.single(found_arg0_verb1)\n",
    "expect_arg1_verb0 = Expect.single(found_arg1_verb0)\n",
    "expect_arg1_verb1 = Expect.single(found_arg1_verb1)\n",
    "expect_arg2_verb0 = Expect.single(found_arg2_verb0)\n",
    "expect_arg2_verb1 = Expect.single(found_arg2_verb1)\n",
    "expect_argloc_verb0 = Expect.single(found_argloc_verb0)\n",
    "expect_argloc_verb1 = Expect.single(found_argloc_verb1)\n",
    "expect_argmnr_verb0 = Expect.single(found_arg_manner_verb0)\n",
    "expect_argmnr_verb1 = Expect.single(found_arg_manner_verb1)"
   ]
  },
  {
   "cell_type": "markdown",
   "metadata": {},
   "source": [
    "### Load wordlists to use in sample sentences"
   ]
  },
  {
   "cell_type": "code",
   "execution_count": 11,
   "metadata": {},
   "outputs": [],
   "source": [
    "# initialize editor object\n",
    "editor = Editor()\n",
    "\n",
    "#negation words\n",
    "neg = [\"did not\", \"would not\", \"should not\", \"could not\", \"does not\", \"doesn't\", \"didn't\", \"wouldn't\", \"shouldn't\", \"couldn't\"]\n",
    "#activities\n",
    "activity = ['does the dishes', 'attends the party', 'prepares dinner', 'makes breakfast', 'hosts the event', 'takes the picture', 'watches tv all day']\n",
    "neg_activity = ['do the dishes', 'attend the party', 'prepare dinner', 'make breakfast', 'host the event', 'take the picture', 'watch tv all day']\n",
    "\n",
    "# a list of verbs to use in the test cases\n",
    "patient_verbs = ['kissed', 'killed', 'hurt', 'touched', 'ignored', 'silenced', 'hit', 'greeted']\n",
    "patient_neg_verbs = ['kiss', 'kill', 'hurt', 'touch', 'ignore', 'silence', 'hit', 'greet']\n",
    "#names\n",
    "english_firstname = editor.lexicons.female_from.United_Kingdom + editor.lexicons.male_from.United_Kingdom\n",
    "#instruments\n",
    "instrument = ['knife', 'stone', 'bottle', 'table', 'chair', 'fist', 'rollerblade', 'shoelace', 'discoball', 'fork', 'racket']\n",
    "#locations\n",
    "locations = ['in the kitchen', 'in the hallway', 'at the busstop', 'at university', 'on the street', 'in the supermarket', 'on the balcony', 'at the theatre', 'in the museum', 'on the roof']\n",
    "#lists of manner words to test\n",
    "manner_adv = ['gently', 'softly', 'powerfully', 'wisely', 'quickly', 'slowly', 'patiently', 'tactically', 'generously', 'blatantly', 'kindly']\n",
    "manner_verbs = ['hit', 'kicked', 'stopped', 'touched', 'missed', 'smashed']\n",
    "manner_verbs_neg = ['hit', 'kick', 'stop', 'touch', 'miss', 'smash']"
   ]
  },
  {
   "cell_type": "markdown",
   "metadata": {},
   "source": [
    "## Tests\n",
    "### Agent recognition  invariance"
   ]
  },
  {
   "cell_type": "code",
   "execution_count": 12,
   "metadata": {
    "scrolled": true
   },
   "outputs": [
    {
     "name": "stdout",
     "output_type": "stream",
     "text": [
      "SRL\n",
      "Predicting 100 examples\n",
      "Test cases:      100\n",
      "Fails (rate):    4 (4.0%)\n",
      "\n",
      "Example fails:\n",
      "[ARG0: Carolyn] [V: does] [ARG0: the dishes]\n",
      "----\n",
      "[ARG0: Keith] [V: does] [ARG0: the dishes]\n",
      "----\n",
      "[ARGM-DIS: Dan] [V: does] [ARG1: the dishes]\n",
      "----\n",
      "SRL BERT\n",
      "Predicting 100 examples\n",
      "Test cases:      100\n",
      "Fails (rate):    0 (0.0%)\n"
     ]
    }
   ],
   "source": [
    "#create samples\n",
    "testcase_name = 'agent_base'\n",
    "t = editor.template(\"{first_name} {activity}\", activity=activity, meta=True, nsamples=100)\n",
    "\n",
    "#make and store predictions for the two models\n",
    "test_data, SRL_predictions, SRLBERT_predictions = predict_and_store(t, capability, testcase_name, \\\n",
    "                                                                    expect_arg0_verb0, format_srl_verb0, \\\n",
    "                                                                    predict_srl, predict_srlbert, test_data, \\\n",
    "                                                                    SRL_predictions, SRLBERT_predictions)"
   ]
  },
  {
   "cell_type": "code",
   "execution_count": 13,
   "metadata": {},
   "outputs": [
    {
     "name": "stdout",
     "output_type": "stream",
     "text": [
      "SRL\n",
      "Predicting 100 examples\n",
      "Test cases:      100\n",
      "Fails (rate):    2 (2.0%)\n",
      "\n",
      "Example fails:\n",
      "[ARGM-DIS: Dan] did [ARGM-NEG: n't] [V: do] [ARG1: the dishes]\n",
      "----\n",
      "[ARGM-DIS: Andrea] did [ARGM-NEG: n't] [V: host] [ARG1: the event]\n",
      "----\n",
      "SRL BERT\n",
      "Predicting 100 examples\n",
      "Test cases:      100\n",
      "Fails (rate):    1 (1.0%)\n",
      "\n",
      "Example fails:\n",
      "[ARGM-DIS: Andrea] did [ARGM-NEG: n't] [V: host] [ARG1: the event]\n",
      "----\n"
     ]
    }
   ],
   "source": [
    "#create samples\n",
    "testcase_name = 'agent_negated'\n",
    "t = editor.template(\"{first_name} {neg} {activity}\", activity=neg_activity, neg=neg, meta=True, nsamples=100)\n",
    "\n",
    "#make and store predictions for the two models\n",
    "test_data, SRL_predictions, SRLBERT_predictions = predict_and_store(t, capability, testcase_name, \\\n",
    "                                                                    expect_arg0_verb1, format_srl_verb1, \\\n",
    "                                                                    predict_srl, predict_srlbert, test_data, \\\n",
    "                                                                    SRL_predictions, SRLBERT_predictions)"
   ]
  },
  {
   "cell_type": "markdown",
   "metadata": {},
   "source": [
    "### Patient recognition"
   ]
  },
  {
   "cell_type": "code",
   "execution_count": 14,
   "metadata": {},
   "outputs": [
    {
     "name": "stdout",
     "output_type": "stream",
     "text": [
      "SRL\n",
      "Predicting 100 examples\n",
      "Test cases:      100\n",
      "Fails (rate):    3 (3.0%)\n",
      "\n",
      "Example fails:\n",
      "[ARG1: Chris] [V: hit] [ARG2: Norman] [ARGM-TMP: yesterday] .\n",
      "----\n",
      "[ARG0: Philip] [V: hurt] [ARGM-TMP: Judith] [ARGM-TMP: yesterday] .\n",
      "----\n",
      "[ARG1: Annie] [V: greeted] [ARG2: Pamela] [ARGM-TMP: yesterday] .\n",
      "----\n",
      "SRL BERT\n",
      "Predicting 100 examples\n",
      "Test cases:      100\n",
      "Fails (rate):    0 (0.0%)\n"
     ]
    }
   ],
   "source": [
    "#create samples\n",
    "testcase_name = 'patient_base'\n",
    "t = editor.template(\"{first_name} {verb} {first} yesterday.\", first=english_firstname, verb=patient_verbs, meta=True, nsamples=100)\n",
    "\n",
    "#make and store predictions for the two models\n",
    "test_data, SRL_predictions, SRLBERT_predictions = predict_and_store(t, capability, testcase_name, \\\n",
    "                                                                    expect_arg1_verb0, format_srl_verb0, \\\n",
    "                                                                    predict_srl, predict_srlbert, test_data, \\\n",
    "                                                                    SRL_predictions, SRLBERT_predictions)"
   ]
  },
  {
   "cell_type": "code",
   "execution_count": 15,
   "metadata": {},
   "outputs": [
    {
     "name": "stdout",
     "output_type": "stream",
     "text": [
      "SRL\n",
      "Predicting 100 examples\n",
      "Test cases:      100\n",
      "Fails (rate):    1 (1.0%)\n",
      "\n",
      "Example fails:\n",
      "[ARG0: Albert] [ARGM-MOD: would] [ARGM-NEG: n't] [V: kiss] [ARGM-EXT: Norman] .\n",
      "----\n",
      "SRL BERT\n",
      "Predicting 100 examples\n",
      "Test cases:      100\n",
      "Fails (rate):    0 (0.0%)\n"
     ]
    }
   ],
   "source": [
    "#create samples\n",
    "testcase_name = 'patient_negated'\n",
    "t = editor.template(\"{first_name} {neg} {verb} {first}.\", first=english_firstname, neg=neg, verb=patient_neg_verbs, meta=True, nsamples=100)\n",
    "\n",
    "#make and store predictions for the two models\n",
    "test_data, SRL_predictions, SRLBERT_predictions = predict_and_store(t, capability, testcase_name, \\\n",
    "                                                                    expect_arg1_verb1, format_srl_verb1, \\\n",
    "                                                                    predict_srl, predict_srlbert, test_data, \\\n",
    "                                                                    SRL_predictions, SRLBERT_predictions)"
   ]
  },
  {
   "cell_type": "markdown",
   "metadata": {},
   "source": [
    "### Instrument recognition"
   ]
  },
  {
   "cell_type": "code",
   "execution_count": 16,
   "metadata": {},
   "outputs": [
    {
     "name": "stdout",
     "output_type": "stream",
     "text": [
      "SRL\n",
      "Predicting 100 examples\n",
      "Test cases:      100\n",
      "Fails (rate):    47 (47.0%)\n",
      "\n",
      "Example fails:\n",
      "[ARG0: Jim] [V: killed] [ARG1: Albert] [ARGM-MNR: with a knife] .\n",
      "----\n",
      "[ARG0: Sandra] [V: killed] [ARG1: Laura] [ARGM-MNR: with a bottle] .\n",
      "----\n",
      "[ARG0: Al] [V: killed] [ARG1: Sara] [ARGM-MNR: with a discoball] .\n",
      "----\n",
      "SRL BERT\n",
      "Predicting 100 examples\n",
      "Test cases:      100\n",
      "Fails (rate):    32 (32.0%)\n",
      "\n",
      "Example fails:\n",
      "[ARG0: Helen] [V: killed] Rose with a discoball .\n",
      "----\n",
      "[ARG0: Andrew] [V: killed] [ARG1: Tom] [ARGM-MNR: with a table] .\n",
      "----\n",
      "[ARG0: Melissa] [V: killed] [ARG1: Rose] with a table .\n",
      "----\n"
     ]
    }
   ],
   "source": [
    "#create samples\n",
    "testcase_name = 'instrument_base'\n",
    "t = editor.template(\"{first_name} killed {firstname} with a {instrument}.\", instrument=instrument, firstname=english_firstname, meta=True, nsamples=100)\n",
    "\n",
    "#make and store predictions for the two models\n",
    "test_data, SRL_predictions, SRLBERT_predictions = predict_and_store(t, capability, testcase_name, \\\n",
    "                                                                    expect_arg2_verb0, format_srl_verb0, \\\n",
    "                                                                    predict_srl, predict_srlbert, test_data, \\\n",
    "                                                                    SRL_predictions, SRLBERT_predictions)"
   ]
  },
  {
   "cell_type": "code",
   "execution_count": 17,
   "metadata": {},
   "outputs": [
    {
     "name": "stdout",
     "output_type": "stream",
     "text": [
      "SRL\n",
      "Predicting 100 examples\n",
      "Test cases:      100\n",
      "Fails (rate):    55 (55.0%)\n",
      "\n",
      "Example fails:\n",
      "[ARG0: Jonathan] did [ARGM-NEG: n't] [V: kill] [ARG1: Margaret] [ARGM-MNR: with a fork] .\n",
      "----\n",
      "[ARG0: Deborah] did [ARGM-NEG: not] [V: kill] [ARG1: Hugh] [ARGM-MNR: with a fist] .\n",
      "----\n",
      "[ARG0: Diana] does [ARGM-NEG: not] [V: kill] [ARG1: Nigel] [ARGM-MNR: with a fist] .\n",
      "----\n",
      "SRL BERT\n",
      "Predicting 100 examples\n",
      "Test cases:      100\n",
      "Fails (rate):    3 (3.0%)\n",
      "\n",
      "Example fails:\n",
      "[ARG0: Matthew] [ARGM-MOD: should] [ARGM-NEG: not] [V: kill] [ARG1: Caroline] [ARGM-MNR: with a racket] .\n",
      "----\n",
      "[ARG0: Amy] [ARGM-MOD: could] [ARGM-NEG: not] [V: kill] [ARG1: Gordon] [ARGM-MNR: with a racket] .\n",
      "----\n",
      "[ARG0: Stephen] did [ARGM-NEG: n't] [V: kill] [ARG1: Patricia] [ARGM-MNR: with a racket] .\n",
      "----\n"
     ]
    }
   ],
   "source": [
    "#create samples\n",
    "testcase_name = 'instrument_negated'\n",
    "t = editor.template(\"{first_name} {neg} kill {firstname} with a {instrument}.\", neg=neg, instrument=instrument, firstname=english_firstname, meta=True, nsamples=100)\n",
    "\n",
    "#make and store predictions for the two models\n",
    "test_data, SRL_predictions, SRLBERT_predictions = predict_and_store(t, capability, testcase_name, \\\n",
    "                                                                    expect_arg2_verb1, format_srl_verb1, \\\n",
    "                                                                    predict_srl, predict_srlbert, test_data, \\\n",
    "                                                                    SRL_predictions, SRLBERT_predictions)"
   ]
  },
  {
   "cell_type": "markdown",
   "metadata": {},
   "source": [
    "### Location "
   ]
  },
  {
   "cell_type": "code",
   "execution_count": 18,
   "metadata": {},
   "outputs": [
    {
     "name": "stdout",
     "output_type": "stream",
     "text": [
      "SRL\n",
      "Predicting 100 examples\n",
      "Test cases:      100\n",
      "Fails (rate):    10 (10.0%)\n",
      "\n",
      "Example fails:\n",
      "[ARG0: Ellen] [V: touched] [ARG1: Adam] [ARG2: on the street] .\n",
      "----\n",
      "[ARG0: Colin] [V: touched] [ARG1: Bobby] [ARG2: on the roof] .\n",
      "----\n",
      "[ARG0: Patricia] [V: kissed] [ARGM-PRD: Charlotte on the balcony] .\n",
      "----\n",
      "SRL BERT\n",
      "Predicting 100 examples\n",
      "Test cases:      100\n",
      "Fails (rate):    0 (0.0%)\n"
     ]
    }
   ],
   "source": [
    "#create samples\n",
    "testcase_name = 'location_base'\n",
    "t = editor.template(\"{first_name} {verb} {firstname} {location}.\", verb=patient_verbs, firstname=english_firstname, location=locations, meta=True, nsamples=100)\n",
    "\n",
    "#make and store predictions for the two models\n",
    "test_data, SRL_predictions, SRLBERT_predictions = predict_and_store(t, capability, testcase_name, \\\n",
    "                                                                    expect_argloc_verb0, format_srl_verb0, \\\n",
    "                                                                    predict_srl, predict_srlbert, test_data, \\\n",
    "                                                                    SRL_predictions, SRLBERT_predictions)"
   ]
  },
  {
   "cell_type": "code",
   "execution_count": 19,
   "metadata": {},
   "outputs": [
    {
     "name": "stdout",
     "output_type": "stream",
     "text": [
      "SRL\n",
      "Predicting 100 examples\n",
      "Test cases:      100\n",
      "Fails (rate):    23 (23.0%)\n",
      "\n",
      "Example fails:\n",
      "[ARG0: Greg] does [ARGM-NEG: not] [V: touch] [ARG1: Kathleen] [ARG2: at the busstop] .\n",
      "----\n",
      "[ARG0: Virginia] [ARGM-MOD: would] [ARGM-NEG: n't] [V: ignore] [ARG1: Martin in the kitchen] .\n",
      "----\n",
      "[ARG0: Anna] [ARGM-MOD: would] [ARGM-NEG: n't] [V: ignore] [ARG1: Jonathan in the hallway] .\n",
      "----\n",
      "SRL BERT\n",
      "Predicting 100 examples\n",
      "Test cases:      100\n",
      "Fails (rate):    0 (0.0%)\n"
     ]
    }
   ],
   "source": [
    "#create samples\n",
    "testcase_name = 'location_negated'\n",
    "t = editor.template(\"{first_name} {neg} {verb} {firstname} {location}.\", neg=neg, verb=patient_neg_verbs, firstname=english_firstname, location=locations, meta=True, nsamples=100)\n",
    "\n",
    "#make and store predictions for the two models\n",
    "test_data, SRL_predictions, SRLBERT_predictions = predict_and_store(t, capability, testcase_name, \\\n",
    "                                                                    expect_argloc_verb1, format_srl_verb1, \\\n",
    "                                                                    predict_srl, predict_srlbert, test_data, \\\n",
    "                                                                    SRL_predictions, SRLBERT_predictions)"
   ]
  },
  {
   "cell_type": "markdown",
   "metadata": {},
   "source": [
    "### Manner"
   ]
  },
  {
   "cell_type": "code",
   "execution_count": 20,
   "metadata": {},
   "outputs": [
    {
     "name": "stdout",
     "output_type": "stream",
     "text": [
      "SRL\n",
      "Predicting 100 examples\n",
      "Test cases:      100\n",
      "Fails (rate):    12 (12.0%)\n",
      "\n",
      "Example fails:\n",
      "[ARG0: Sara] [V: kicked] [ARG1: the ball] [ARGM-PRD: tactically]\n",
      "----\n",
      "[ARG0: Kim] [V: stopped] [ARG1: the ball tactically]\n",
      "----\n",
      "[ARG0: Patrick] [V: missed] [ARG1: the ball tactically]\n",
      "----\n",
      "SRL BERT\n",
      "Predicting 100 examples\n",
      "Test cases:      100\n",
      "Fails (rate):    0 (0.0%)\n"
     ]
    }
   ],
   "source": [
    "#create samples\n",
    "testcase_name = 'manner_base'\n",
    "t = editor.template(\"{first_name} {verb} the ball {manner}\", manner=manner_adv, verb=manner_verbs, meta=True, nsamples=100)\n",
    "\n",
    "#make and store predictions for the two models\n",
    "test_data, SRL_predictions, SRLBERT_predictions = predict_and_store(t, capability, testcase_name, \\\n",
    "                                                                    expect_argmnr_verb0, format_srl_verb0, \\\n",
    "                                                                    predict_srl, predict_srlbert, test_data, \\\n",
    "                                                                    SRL_predictions, SRLBERT_predictions)"
   ]
  },
  {
   "cell_type": "code",
   "execution_count": 21,
   "metadata": {},
   "outputs": [
    {
     "name": "stdout",
     "output_type": "stream",
     "text": [
      "SRL\n",
      "Predicting 100 examples\n",
      "Test cases:      100\n",
      "Fails (rate):    8 (8.0%)\n",
      "\n",
      "Example fails:\n",
      "[ARGM-MNR: Kathy] [ARGM-MOD: should] [ARGM-NEG: not] [V: smash] [ARG1: the ball] [ARGM-MNR: kindly]\n",
      "----\n",
      "[ARG0: Matthew] does [ARGM-NEG: n't] [V: miss] [ARG1: the ball tactically]\n",
      "----\n",
      "[ARG0: Arthur] [ARGM-MOD: should] [ARGM-NEG: n't] [V: hit] [ARG1: the ball] tactically\n",
      "----\n",
      "SRL BERT\n",
      "Predicting 100 examples\n",
      "Test cases:      100\n",
      "Fails (rate):    0 (0.0%)\n"
     ]
    }
   ],
   "source": [
    "#create samples\n",
    "testcase_name = 'manner_negated'\n",
    "t = editor.template(\"{first_name} {neg} {verb} the ball {manner}\", neg=neg, manner=manner_adv, verb=manner_verbs_neg, meta=True, nsamples=100)\n",
    "\n",
    "#make and store predictions for the two models\n",
    "test_data, SRL_predictions, SRLBERT_predictions = predict_and_store(t, capability, testcase_name, \\\n",
    "                                                                    expect_argmnr_verb1, format_srl_verb1, \\\n",
    "                                                                    predict_srl, predict_srlbert, test_data, \\\n",
    "                                                                    SRL_predictions, SRLBERT_predictions)"
   ]
  },
  {
   "cell_type": "markdown",
   "metadata": {},
   "source": [
    "### Store all data to JSON"
   ]
  },
  {
   "cell_type": "code",
   "execution_count": 22,
   "metadata": {},
   "outputs": [],
   "source": [
    "#store the test sentences\n",
    "store_data(test_sents_path, test_data, new_file=True)\n",
    "#store the model predictions\n",
    "store_data(bert_pred_path, SRLBERT_predictions, new_file=True)\n",
    "store_data(srl_pred_path, SRL_predictions, new_file=True)"
   ]
  },
  {
   "cell_type": "code",
   "execution_count": null,
   "metadata": {},
   "outputs": [],
   "source": []
  }
 ],
 "metadata": {
  "kernelspec": {
   "display_name": "Python [conda env:allennlp37]",
   "language": "python",
   "name": "conda-env-allennlp37-py"
  },
  "language_info": {
   "codemirror_mode": {
    "name": "ipython",
    "version": 3
   },
   "file_extension": ".py",
   "mimetype": "text/x-python",
   "name": "python",
   "nbconvert_exporter": "python",
   "pygments_lexer": "ipython3",
   "version": "3.7.11"
  }
 },
 "nbformat": 4,
 "nbformat_minor": 4
}
