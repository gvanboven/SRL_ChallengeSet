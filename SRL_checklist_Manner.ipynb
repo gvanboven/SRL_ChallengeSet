{
 "cells": [
  {
   "cell_type": "markdown",
   "metadata": {},
   "source": [
    "# SRL Manner recognition experiments\n",
    "\n",
    "In this notebook I carry out experiments to test whether two Semantic Role Labelling (SRL) systems can correctly identify patients in sentences with varying structures. This code was based on code provided by Pia Sommerauer.\n",
    "\n",
    "In this code I load two models, namely the AllenNLP SRL model and the AllenNLP SRL BERT model. I create a variety of tets cases, for wich I evaluate the performance of the two models. All the test sentences are stored in a json file specified through the `test_sents_path` variable. The SRL predictions are stored in the json file specified through `srl_pred_path`, and similarly the SRL BERT predictions are stored at the path `bert_pred_path`.\n",
    "\n",
    "### Manner recognition\n",
    "I test seven different sentence structures:\n",
    "* `first_name` hit the ball `manner` : e.g. 'John hit the ball quickly'\n",
    "* The `manner` manner in which `first_name` hit the ball was `opinion`: e.g. 'The powerful manner in which Steven hit the ball was impressive'\n",
    "* `first_name` hit the ball in a `manner` manner : e.g. 'Kathy hit the ball in a soft manner' \n",
    "        \n",
    "* `manner` `first_name` hit the ball : e.g. 'Kindly Louise hit the ball'\n",
    "* Ever so `manner` `first_name` hit the ball: e.g. 'Ever so softly Edwin hit the ball'\n",
    "* `manner`, it was undeniable, `first_name` hit the ball: e.g. 'Powerfully, it was undeniable, Beborah hit the ball'\n",
    "* Ever so `manner`, it was undeniable, `first_name` hit the ball: e.g. 'Ever so blatantly, it was undeniable, Bobby hit the ball' \n",
    "\n"
   ]
  },
  {
   "cell_type": "code",
   "execution_count": 1,
   "metadata": {},
   "outputs": [],
   "source": [
    "from allennlp_models.pretrained import load_predictor"
   ]
  },
  {
   "cell_type": "code",
   "execution_count": 2,
   "metadata": {},
   "outputs": [],
   "source": [
    "import checklist\n",
    "from checklist.editor import Editor\n",
    "from checklist.perturb import Perturb\n",
    "from checklist.test_types import MFT, INV, DIR\n",
    "from checklist.expect import Expect"
   ]
  },
  {
   "cell_type": "code",
   "execution_count": 3,
   "metadata": {},
   "outputs": [],
   "source": [
    "from checklist.pred_wrapper import PredictorWrapper"
   ]
  },
  {
   "cell_type": "code",
   "execution_count": 4,
   "metadata": {},
   "outputs": [],
   "source": [
    "import json\n",
    "import logging\n",
    "logger = logging.getLogger()\n",
    "logger.setLevel(logging.CRITICAL)"
   ]
  },
  {
   "cell_type": "code",
   "execution_count": 5,
   "metadata": {},
   "outputs": [],
   "source": [
    "from utils_functions import *"
   ]
  },
  {
   "cell_type": "markdown",
   "metadata": {},
   "source": [
    "### Load the models "
   ]
  },
  {
   "cell_type": "code",
   "execution_count": null,
   "metadata": {},
   "outputs": [],
   "source": [
    "# load the regular SRL model\n",
    "srl_predictor = load_predictor('structured-prediction-srl')\n",
    "# load the SRL BERT model\n",
    "srlbert_predictor = load_predictor('structured-prediction-srl-bert')"
   ]
  },
  {
   "cell_type": "code",
   "execution_count": 7,
   "metadata": {},
   "outputs": [],
   "source": [
    "#functions to create model predictions for a list containing sentences\n",
    "### added by pia, edited by Goya ###\n",
    "\n",
    "def predict_srl(data):\n",
    "    pred = []\n",
    "    for d in data:\n",
    "        pred.append(srl_predictor.predict(d))\n",
    "    return pred\n",
    "\n",
    "\n",
    "def predict_srlbert(data):\n",
    "    pred = []\n",
    "    for d in data:\n",
    "        pred.append(srlbert_predictor.predict(d))\n",
    "    return pred\n",
    "\n",
    "predict_srl = PredictorWrapper.wrap_predict(predict_srl)\n",
    "predict_srlbert = PredictorWrapper.wrap_predict(predict_srlbert)"
   ]
  },
  {
   "cell_type": "markdown",
   "metadata": {},
   "source": [
    "### Define output file paths"
   ]
  },
  {
   "cell_type": "code",
   "execution_count": 8,
   "metadata": {},
   "outputs": [],
   "source": [
    "#create lists to store test sentences and model predictions in \n",
    "test_data = []\n",
    "SRLBERT_predictions = []\n",
    "SRL_predictions = []"
   ]
  },
  {
   "cell_type": "code",
   "execution_count": 9,
   "metadata": {},
   "outputs": [],
   "source": [
    "#define paths to output files\n",
    "test_sents_path = './JSON_test_and_predict_files/test_data_manner.json'\n",
    "bert_pred_path = './JSON_test_and_predict_files/BERT_predictions_manner.json'\n",
    "srl_pred_path = './JSON_test_and_predict_files/SRL_predictions_manner.json'\n",
    "\n",
    "#set name of current capability\n",
    "capability = 'manner_recognition'"
   ]
  },
  {
   "cell_type": "markdown",
   "metadata": {},
   "source": [
    "### Load Checklist tests (Load functions defined in utils)\n",
    "Load functions to test whether the manner is correctly recognized"
   ]
  },
  {
   "cell_type": "code",
   "execution_count": 10,
   "metadata": {},
   "outputs": [],
   "source": [
    "expect_argmnr_verb0 = Expect.single(found_arg_manner_verb0)\n",
    "expect_mannerlong_verb0 = Expect.single(found_arg_mannerlong_verb0)\n",
    "expect_inamanner_verb0 = Expect.single(found_arg_inamanner_verb0)\n",
    "expect_eversomanner_verb0 = Expect.single(found_arg_eversomanner_verb0)\n",
    "expect_eversomanner_verb1 = Expect.single(found_arg_eversomanner_verb1)\n",
    "expect_argmnr_verb1 = Expect.single(found_arg_manner_verb1)"
   ]
  },
  {
   "cell_type": "code",
   "execution_count": 11,
   "metadata": {},
   "outputs": [],
   "source": [
    "editor = Editor()"
   ]
  },
  {
   "cell_type": "markdown",
   "metadata": {},
   "source": [
    "### Load wordlists to use in sample sentences"
   ]
  },
  {
   "cell_type": "code",
   "execution_count": 12,
   "metadata": {},
   "outputs": [],
   "source": [
    "#lists of manner words to test\n",
    "manner_adv = ['gently', 'softly', 'powerfully', 'wisely', 'quickly', 'slowly', 'patiently', 'tactically', 'generously', 'blatantly', 'kindly']\n",
    "manner_adj = ['gentle', 'soft', 'powerful', 'wise', 'quick', 'slow', 'patient', 'tactical', 'generous', 'blatant', 'kind']\n",
    "opinion = ['impressive', 'fascinating', 'mindblowing', 'sensational', 'boring', 'uninteresting', 'interesting']\n",
    "#list of verbs\n",
    "verbs = ['hit', 'kicked', 'stopped', 'touched', 'missed', 'smashed']"
   ]
  },
  {
   "cell_type": "markdown",
   "metadata": {},
   "source": [
    "## Tests : Manner recognition"
   ]
  },
  {
   "cell_type": "code",
   "execution_count": 13,
   "metadata": {},
   "outputs": [
    {
     "name": "stdout",
     "output_type": "stream",
     "text": [
      "SRL\n",
      "Predicting 100 examples\n",
      "Test cases:      100\n",
      "Fails (rate):    8 (8.0%)\n",
      "\n",
      "Example fails:\n",
      "Lauren [V: touched] [ARG1: the ball] tactically\n",
      "----\n",
      "[ARG0: Ian] [V: missed] [ARG1: the ball tactically]\n",
      "----\n",
      "[ARG0: Rebecca] [V: stopped] [ARG1: the ball tactically]\n",
      "----\n",
      "SRL BERT\n",
      "Predicting 100 examples\n",
      "Test cases:      100\n",
      "Fails (rate):    0 (0.0%)\n"
     ]
    }
   ],
   "source": [
    "#create samples\n",
    "testcase_name = 'final_position'\n",
    "t = editor.template(\"{first_name} {verb} the ball {manner}\", manner=manner_adv, verb=verbs, meta=True, nsamples=100)\n",
    "\n",
    "#make and store predictions for the two models\n",
    "test_data, SRL_predictions, SRLBERT_predictions = predict_and_store(t, capability, testcase_name, \\\n",
    "                                                                    expect_argmnr_verb0, format_srl_verb0, \\\n",
    "                                                                    predict_srl, predict_srlbert, test_data, \\\n",
    "                                                                    SRL_predictions, SRLBERT_predictions)"
   ]
  },
  {
   "cell_type": "code",
   "execution_count": 14,
   "metadata": {},
   "outputs": [
    {
     "name": "stdout",
     "output_type": "stream",
     "text": [
      "SRL\n",
      "Predicting 100 examples\n",
      "Test cases:      100\n",
      "Fails (rate):    13 (13.0%)\n",
      "\n",
      "Example fails:\n",
      "[ARGM-LOC: The gentle manner] [R-ARGM-LOC: in which] [ARG0: Francis] [V: kicked] [ARG1: the ball] was uninteresting\n",
      "----\n",
      "[ARGM-MNR: The quick manner] [R-ARGM-MNR: in which] [ARGM-MNR: Harriet] [V: hit] [ARG1: the ball] was uninteresting\n",
      "----\n",
      "The gentle manner [R-ARGM-LOC: in which] [ARG0: Pamela] [V: missed] the ball was sensational\n",
      "----\n",
      "SRL BERT\n",
      "Predicting 100 examples\n",
      "Test cases:      100\n",
      "Fails (rate):    0 (0.0%)\n"
     ]
    }
   ],
   "source": [
    "#create samples\n",
    "testcase_name = 'the_manner_in_which'\n",
    "t = editor.template(\"The {manner} manner in which {first_name} {verb} the ball was {opinion}\", manner=manner_adj, verb=verbs, opinion=opinion, meta=True, nsamples=100)\n",
    "\n",
    "#make and store predictions for the two models\n",
    "test_data, SRL_predictions, SRLBERT_predictions = predict_and_store(t, capability, testcase_name, \\\n",
    "                                                                    expect_mannerlong_verb0, format_srl_verb0, \\\n",
    "                                                                    predict_srl, predict_srlbert, test_data, \\\n",
    "                                                                    SRL_predictions, SRLBERT_predictions)"
   ]
  },
  {
   "cell_type": "code",
   "execution_count": 15,
   "metadata": {},
   "outputs": [
    {
     "name": "stdout",
     "output_type": "stream",
     "text": [
      "SRL\n",
      "Predicting 100 examples\n",
      "Test cases:      100\n",
      "Fails (rate):    1 (1.0%)\n",
      "\n",
      "Example fails:\n",
      "[ARGM-MNR: Alex] [V: touched] [ARG1: the ball] [ARGM-MNR: in a powerful manner]\n",
      "----\n",
      "SRL BERT\n",
      "Predicting 100 examples\n",
      "Test cases:      100\n",
      "Fails (rate):    0 (0.0%)\n"
     ]
    }
   ],
   "source": [
    "#create samples\n",
    "testcase_name = 'in_a_manner'\n",
    "t = editor.template(\"{first_name} {verb} the ball in a {manner} manner \", manner=manner_adj, verb=verbs, meta=True, nsamples=100)\n",
    "\n",
    "#make and store predictions for the two models\n",
    "test_data, SRL_predictions, SRLBERT_predictions = predict_and_store(t, capability, testcase_name, \\\n",
    "                                                                    expect_inamanner_verb0, format_srl_verb0, \\\n",
    "                                                                    predict_srl, predict_srlbert, test_data, \\\n",
    "                                                                    SRL_predictions, SRLBERT_predictions)"
   ]
  },
  {
   "cell_type": "code",
   "execution_count": 16,
   "metadata": {},
   "outputs": [
    {
     "name": "stdout",
     "output_type": "stream",
     "text": [
      "SRL\n",
      "Predicting 100 examples\n",
      "Test cases:      100\n",
      "Fails (rate):    21 (21.0%)\n",
      "\n",
      "Example fails:\n",
      "[ARGM-MNR: generously Catherine] [V: smashed] [ARG1: the ball]\n",
      "----\n",
      "[ARGM-MNR: kindly Anna] [V: touched] [ARG1: the ball]\n",
      "----\n",
      "[ARG0: blatantly Ruth] [V: stopped] [ARG1: the ball]\n",
      "----\n",
      "SRL BERT\n",
      "Predicting 100 examples\n",
      "Test cases:      100\n",
      "Fails (rate):    19 (19.0%)\n",
      "\n",
      "Example fails:\n",
      "[ARG0: tactically Grace] [V: smashed] [ARG1: the ball]\n",
      "----\n",
      "[ARGM-ADV: generously] [ARG0: Patricia] [V: smashed] [ARG1: the ball]\n",
      "----\n",
      "[ARGM-ADV: generously] [ARG0: Kathleen] [V: smashed] [ARG1: the ball]\n",
      "----\n"
     ]
    }
   ],
   "source": [
    "#create samples\n",
    "testcase_name = 'first_position'\n",
    "t = editor.template(\"{manner} {first_name} {verb} the ball\", manner=manner_adv, verb=verbs, meta=True, nsamples=100)\n",
    "\n",
    "#make and store predictions for the two models\n",
    "test_data, SRL_predictions, SRLBERT_predictions = predict_and_store(t, capability, testcase_name, \\\n",
    "                                                                    expect_argmnr_verb0, format_srl_verb0, \\\n",
    "                                                                    predict_srl, predict_srlbert, test_data, \\\n",
    "                                                                    SRL_predictions, SRLBERT_predictions)"
   ]
  },
  {
   "cell_type": "code",
   "execution_count": 17,
   "metadata": {},
   "outputs": [
    {
     "name": "stdout",
     "output_type": "stream",
     "text": [
      "SRL\n",
      "Predicting 100 examples\n",
      "Test cases:      100\n",
      "Fails (rate):    25 (25.0%)\n",
      "\n",
      "Example fails:\n",
      "[ARGM-ADV: powerfully] , [ARG0: Arthur] [V: smashed] [ARG1: the ball]\n",
      "----\n",
      "[ARGM-DIS: tactically] , [ARG0: Ian] [V: missed] [ARG1: the ball]\n",
      "----\n",
      "[ARGM-ADV: wisely] , [ARG0: Catherine] [V: kicked] [ARG1: the ball]\n",
      "----\n",
      "SRL BERT\n",
      "Predicting 100 examples\n",
      "Test cases:      100\n",
      "Fails (rate):    6 (6.0%)\n",
      "\n",
      "Example fails:\n",
      "[ARGM-ADV: generously] , [ARG0: Thomas] [V: kicked] [ARG1: the ball]\n",
      "----\n",
      "[ARGM-ADV: generously] , [ARG0: Frank] [V: missed] [ARG1: the ball]\n",
      "----\n",
      "[ARGM-ADV: generously] , [ARG0: Bobby] [V: hit] [ARG1: the ball]\n",
      "----\n"
     ]
    }
   ],
   "source": [
    "#create samples\n",
    "testcase_name = 'first_position_comma'\n",
    "t = editor.template(\"{manner}, {first_name} {verb} the ball\", manner=manner_adv, verb=verbs, meta=True, nsamples=100)\n",
    "\n",
    "#make and store predictions for the two models\n",
    "test_data, SRL_predictions, SRLBERT_predictions = predict_and_store(t, capability, testcase_name, \\\n",
    "                                                                    expect_argmnr_verb0, format_srl_verb0, \\\n",
    "                                                                    predict_srl, predict_srlbert, test_data, \\\n",
    "                                                                    SRL_predictions, SRLBERT_predictions)"
   ]
  },
  {
   "cell_type": "code",
   "execution_count": 18,
   "metadata": {},
   "outputs": [
    {
     "name": "stdout",
     "output_type": "stream",
     "text": [
      "SRL\n",
      "Predicting 100 examples\n",
      "Test cases:      100\n",
      "Fails (rate):    74 (74.0%)\n",
      "\n",
      "Example fails:\n",
      "Ever so [ARGM-MNR: blatantly] [ARG0: Tony] [V: touched] [ARG1: the ball]\n",
      "----\n",
      "Ever so [ARGM-MNR: blatantly] [ARG0: Michelle] [V: stopped] [ARG1: the ball]\n",
      "----\n",
      "[ARGM-DIS: Ever] [ARGM-DIS: so] [ARG0: tactically Matt] [V: missed] [ARG1: the ball]\n",
      "----\n",
      "SRL BERT\n",
      "Predicting 100 examples\n",
      "Test cases:      100\n",
      "Fails (rate):    10 (10.0%)\n",
      "\n",
      "Example fails:\n",
      "[ARGM-ADV: Ever so tactically] [ARG0: Greg] [V: missed] [ARG1: the ball]\n",
      "----\n",
      "[ARG0: Ever so powerfully Frank] [V: hit] [ARG1: the ball]\n",
      "----\n",
      "[ARGM-ADV: Ever so tactically] [ARG0: Matt] [V: missed] [ARG1: the ball]\n",
      "----\n"
     ]
    }
   ],
   "source": [
    "#create samples\n",
    "testcase_name = 'ever_so_manner'\n",
    "t = editor.template(\"Ever so {manner} {first_name} {verb} the ball\", manner=manner_adv, verb=verbs, meta=True, nsamples=100)\n",
    "\n",
    "#make and store predictions for the two models\n",
    "test_data, SRL_predictions, SRLBERT_predictions = predict_and_store(t, capability, testcase_name, \\\n",
    "                                                                    expect_eversomanner_verb0, format_srl_verb0, \\\n",
    "                                                                    predict_srl, predict_srlbert, test_data, \\\n",
    "                                                                    SRL_predictions, SRLBERT_predictions)"
   ]
  },
  {
   "cell_type": "code",
   "execution_count": 19,
   "metadata": {},
   "outputs": [
    {
     "name": "stdout",
     "output_type": "stream",
     "text": [
      "SRL\n",
      "Predicting 100 examples\n",
      "Test cases:      100\n",
      "Fails (rate):    72 (72.0%)\n",
      "\n",
      "Example fails:\n",
      "[ARGM-MNR: Ever] [R-ARG0: so slowly] , [ARG0: Donna] [V: missed] [ARG1: the ball]\n",
      "----\n",
      "[ARGM-TMP: Ever] [R-ARG0: so softly] , [ARG0: Francis] [V: smashed] [ARG1: the ball]\n",
      "----\n",
      "[R-ARG0: Ever so kindly] , [ARG0: Edith] [V: stopped] [ARG1: the ball]\n",
      "----\n",
      "SRL BERT\n",
      "Predicting 100 examples\n",
      "Test cases:      100\n",
      "Fails (rate):    3 (3.0%)\n",
      "\n",
      "Example fails:\n",
      "[R-ARG0: Ever so generously] , [ARG0: David] [V: kicked] [ARG1: the ball]\n",
      "----\n",
      "[R-ARG0: Ever so tactically] , [ARG0: Philip] [V: kicked] [ARG1: the ball]\n",
      "----\n",
      "[ARGM-ADV: Ever so tactically] , [ARG0: Maria] [V: kicked] [ARG1: the ball]\n",
      "----\n"
     ]
    }
   ],
   "source": [
    "#create samples\n",
    "testcase_name = 'ever_so_manner_comma'\n",
    "t = editor.template(\"Ever so {manner}, {first_name} {verb} the ball\", manner=manner_adv, verb=verbs, meta=True, nsamples=100)\n",
    "\n",
    "#make and store predictions for the two models\n",
    "test_data, SRL_predictions, SRLBERT_predictions = predict_and_store(t, capability, testcase_name, \\\n",
    "                                                                    expect_eversomanner_verb0, format_srl_verb0, \\\n",
    "                                                                    predict_srl, predict_srlbert, test_data, \\\n",
    "                                                                    SRL_predictions, SRLBERT_predictions)"
   ]
  },
  {
   "cell_type": "code",
   "execution_count": 20,
   "metadata": {},
   "outputs": [
    {
     "name": "stdout",
     "output_type": "stream",
     "text": [
      "SRL\n",
      "Predicting 100 examples\n",
      "Test cases:      100\n",
      "Fails (rate):    100 (100.0%)\n",
      "\n",
      "Example fails:\n",
      "tactically , it was undeniable , [ARGM-MNR: Andrea] [V: hit] [ARG1: the ball]\n",
      "----\n",
      "softly , it was undeniable , [ARG0: Ralph] [V: stopped] [ARG1: the ball]\n",
      "----\n",
      "generously , it was undeniable , [ARG0: Mark] [V: stopped] [ARG1: the ball]\n",
      "----\n",
      "SRL BERT\n",
      "Predicting 100 examples\n",
      "Test cases:      100\n",
      "Fails (rate):    83 (83.0%)\n",
      "\n",
      "Example fails:\n",
      "patiently , it was undeniable , [ARG0: Christine] [V: kicked] [ARG1: the ball]\n",
      "----\n",
      "patiently , it was undeniable , [ARG0: Jason] [V: smashed] [ARG1: the ball]\n",
      "----\n",
      "softly , it was undeniable , [ARG0: Mary] [V: hit] [ARG1: the ball]\n",
      "----\n"
     ]
    }
   ],
   "source": [
    "#create samples\n",
    "testcase_name = 'first_position_long_distance'\n",
    "t = editor.template(\"{manner}, it was undeniable, {first_name} {verb} the ball\", manner=manner_adv, verb=verbs, meta=True, nsamples=100)\n",
    "\n",
    "#make and store predictions for the two models\n",
    "test_data, SRL_predictions, SRLBERT_predictions = predict_and_store(t, capability, testcase_name, \\\n",
    "                                                                    expect_argmnr_verb1, format_srl_verb1, \\\n",
    "                                                                    predict_srl, predict_srlbert, test_data, \\\n",
    "                                                                    SRL_predictions, SRLBERT_predictions)"
   ]
  },
  {
   "cell_type": "code",
   "execution_count": 21,
   "metadata": {},
   "outputs": [
    {
     "name": "stdout",
     "output_type": "stream",
     "text": [
      "SRL\n",
      "Predicting 100 examples\n",
      "Test cases:      100\n",
      "Fails (rate):    98 (98.0%)\n",
      "\n",
      "Example fails:\n",
      "Ever so tactically , it was undeniable , [ARG0: Ben] [V: missed] [ARG1: the ball]\n",
      "----\n",
      "Ever so tactically , it was undeniable , [ARG0: Jean] [V: touched] [ARG1: the ball]\n",
      "----\n",
      "Ever so kindly , it was undeniable , [ARG0: Benjamin] [V: kicked] [ARG1: the ball]\n",
      "----\n",
      "SRL BERT\n",
      "Predicting 100 examples\n",
      "Test cases:      100\n",
      "Fails (rate):    51 (51.0%)\n",
      "\n",
      "Example fails:\n",
      "Ever so quickly , it was undeniable , [ARG0: Sara] [V: kicked] [ARG1: the ball]\n",
      "----\n",
      "Ever so tactically , it was undeniable , [ARG0: Jeff] [V: kicked] [ARG1: the ball]\n",
      "----\n",
      "Ever so patiently , it was undeniable , [ARG0: Kathryn] [V: touched] [ARG1: the ball]\n",
      "----\n"
     ]
    }
   ],
   "source": [
    "#create samples\n",
    "testcase_name = 'ever_so_manner_long_distance'\n",
    "t = editor.template(\"Ever so {manner}, it was undeniable, {first_name} {verb} the ball\", manner=manner_adv, verb=verbs, meta=True, nsamples=100)\n",
    "\n",
    "#make and store predictions for the two models\n",
    "test_data, SRL_predictions, SRLBERT_predictions = predict_and_store(t, capability, testcase_name, \\\n",
    "                                                                    expect_eversomanner_verb1, format_srl_verb1, \\\n",
    "                                                                    predict_srl, predict_srlbert, test_data, \\\n",
    "                                                                    SRL_predictions, SRLBERT_predictions)"
   ]
  },
  {
   "cell_type": "markdown",
   "metadata": {},
   "source": [
    "### Store all data to JSON"
   ]
  },
  {
   "cell_type": "code",
   "execution_count": 22,
   "metadata": {},
   "outputs": [],
   "source": [
    "#store the test sentences\n",
    "store_data(test_sents_path, test_data, new_file=True)\n",
    "#store the model predictions\n",
    "store_data(bert_pred_path, SRLBERT_predictions, new_file=True)\n",
    "store_data(srl_pred_path, SRL_predictions, new_file=True)"
   ]
  },
  {
   "cell_type": "code",
   "execution_count": null,
   "metadata": {},
   "outputs": [],
   "source": []
  }
 ],
 "metadata": {
  "kernelspec": {
   "display_name": "Python [conda env:allennlp37]",
   "language": "python",
   "name": "conda-env-allennlp37-py"
  },
  "language_info": {
   "codemirror_mode": {
    "name": "ipython",
    "version": 3
   },
   "file_extension": ".py",
   "mimetype": "text/x-python",
   "name": "python",
   "nbconvert_exporter": "python",
   "pygments_lexer": "ipython3",
   "version": "3.7.11"
  }
 },
 "nbformat": 4,
 "nbformat_minor": 4
}
