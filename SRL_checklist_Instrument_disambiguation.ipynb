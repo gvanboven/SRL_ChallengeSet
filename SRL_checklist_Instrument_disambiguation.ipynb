{
 "cells": [
  {
   "cell_type": "markdown",
   "metadata": {},
   "source": [
    "# SRL Patient recognition experiments\n",
    "\n",
    "In this notebook I carry out experiments to test whether two Semantic Role Labelling (SRL) systems can correctly identify patients in sentences with varying structures. This code was based on code provided by Pia Sommerauer.\n",
    "\n",
    "In this code I load two models, namely the AllenNLP SRL model and the AllenNLP SRL BERT model. I create a variety of tets cases, for wich I evaluate the performance of the two models. All the test sentences are stored in a json file specified through the `test_sents_path` variable. The SRL predictions are stored in the json file specified through `srl_pred_path`, and similarly the SRL BERT predictions are stored at the path `bert_pred_path`.\n",
    "\n",
    "### Recognizing the difference between an instrument and a description\n",
    "* Instrument: 'John hit the door with a hammer'\n",
    "* Description : 'John hit the door with the poster'\n"
   ]
  },
  {
   "cell_type": "code",
   "execution_count": 4,
   "metadata": {},
   "outputs": [],
   "source": [
    "from allennlp_models.pretrained import load_predictor"
   ]
  },
  {
   "cell_type": "code",
   "execution_count": 5,
   "metadata": {},
   "outputs": [],
   "source": [
    "import checklist\n",
    "from checklist.editor import Editor\n",
    "from checklist.perturb import Perturb\n",
    "from checklist.test_types import MFT, INV, DIR\n",
    "from checklist.expect import Expect"
   ]
  },
  {
   "cell_type": "code",
   "execution_count": 6,
   "metadata": {},
   "outputs": [],
   "source": [
    "from checklist.pred_wrapper import PredictorWrapper"
   ]
  },
  {
   "cell_type": "code",
   "execution_count": 3,
   "metadata": {},
   "outputs": [],
   "source": [
    "import json\n",
    "import logging\n",
    "logger = logging.getLogger()\n",
    "logger.setLevel(logging.CRITICAL)"
   ]
  },
  {
   "cell_type": "code",
   "execution_count": 1,
   "metadata": {},
   "outputs": [],
   "source": [
    "from utils_functions import *"
   ]
  },
  {
   "cell_type": "markdown",
   "metadata": {},
   "source": [
    "### Load the models "
   ]
  },
  {
   "cell_type": "code",
   "execution_count": null,
   "metadata": {},
   "outputs": [],
   "source": [
    "# load the regular SRL model\n",
    "srl_predictor = load_predictor('structured-prediction-srl')\n",
    "# load the SRL BERT model\n",
    "srlbert_predictor = load_predictor('structured-prediction-srl-bert')"
   ]
  },
  {
   "cell_type": "code",
   "execution_count": 8,
   "metadata": {},
   "outputs": [],
   "source": [
    "#functions to create model predictions for a list containing sentences\n",
    "### added by pia, edited by Goya ###\n",
    "\n",
    "def predict_srl(data):\n",
    "    pred = []\n",
    "    for d in data:\n",
    "        pred.append(srl_predictor.predict(d))\n",
    "    return pred\n",
    "\n",
    "\n",
    "def predict_srlbert(data):\n",
    "    pred = []\n",
    "    for d in data:\n",
    "        pred.append(srlbert_predictor.predict(d))\n",
    "    return pred\n",
    "\n",
    "predict_srl = PredictorWrapper.wrap_predict(predict_srl)\n",
    "predict_srlbert = PredictorWrapper.wrap_predict(predict_srlbert)"
   ]
  },
  {
   "cell_type": "markdown",
   "metadata": {},
   "source": [
    "### Define output file paths"
   ]
  },
  {
   "cell_type": "code",
   "execution_count": 12,
   "metadata": {},
   "outputs": [],
   "source": [
    "#create lists to store test sentences and model predictions in \n",
    "test_data = []\n",
    "SRLBERT_predictions = []\n",
    "SRL_predictions = []"
   ]
  },
  {
   "cell_type": "code",
   "execution_count": 9,
   "metadata": {},
   "outputs": [],
   "source": [
    "#define paths to output files\n",
    "test_sents_path = './JSON_test_and_predict_files/test_data_instrument.json'\n",
    "bert_pred_path = './JSON_test_and_predict_files/BERT_predictions_instrument.json'\n",
    "srl_pred_path = './JSON_test_and_predict_files/SRL_predictions_instrument.json'\n",
    "\n",
    "#set name of current capability\n",
    "capability = 'instrument_recognition'"
   ]
  },
  {
   "cell_type": "markdown",
   "metadata": {},
   "source": [
    "### Load Checklist tests (Load functions defined in utils)\n",
    "Load functions to test whether the arguments are classified correctly"
   ]
  },
  {
   "cell_type": "code",
   "execution_count": 2,
   "metadata": {},
   "outputs": [],
   "source": [
    "expect_arg1_verb0 = Expect.single(found_door_arg1_verb0)\n",
    "expect_arg2_verb0 = Expect.single(found_door_arg2_verb0)\n",
    "expect_arg2_verb1 = Expect.single(found_door_arg2_verb1)"
   ]
  },
  {
   "cell_type": "markdown",
   "metadata": {},
   "source": [
    "### Load wordlists to use in sample sentences"
   ]
  },
  {
   "cell_type": "code",
   "execution_count": 10,
   "metadata": {},
   "outputs": [],
   "source": [
    "editor = Editor()\n",
    "instrument = ['hammer', 'knife', 'stone', 'bottle', 'table', 'chair', 'racket']\n",
    "description = ['poster', 'flag', 'window', 'bell', 'paint', 'holes', 'mailbox', 'nameplate']"
   ]
  },
  {
   "cell_type": "markdown",
   "metadata": {},
   "source": [
    "## Agent recognition : small and large predicate distance"
   ]
  },
  {
   "cell_type": "code",
   "execution_count": 13,
   "metadata": {
    "scrolled": false
   },
   "outputs": [
    {
     "name": "stdout",
     "output_type": "stream",
     "text": [
      "SRL\n",
      "Predicting 100 examples\n",
      "Test cases:      100\n",
      "Fails (rate):    1 (1.0%)\n",
      "\n",
      "Example fails:\n",
      "[ARG0: Dick] [V: hit] [ARG1: the door] [ARGM-MNR: with the knife]\n",
      "----\n",
      "SRL BERT\n",
      "Predicting 100 examples\n",
      "Test cases:      100\n",
      "Fails (rate):    17 (17.0%)\n",
      "\n",
      "Example fails:\n",
      "[ARG0: Harry] [V: hit] [ARG1: the door] [ARGM-MNR: with the racket]\n",
      "----\n",
      "[ARG0: Linda] [V: hit] [ARG1: the door] [ARGM-MNR: with the racket]\n",
      "----\n",
      "[ARG0: Steven] [V: hit] [ARG1: the door] [C-ARG1: with the table]\n",
      "----\n"
     ]
    }
   ],
   "source": [
    "#create samples\n",
    "testcase_name = 'instrument'\n",
    "t = editor.template(\"{first_name} hit the door with the {instrument}\", instrument=instrument, meta=True, nsamples=100)\n",
    "\n",
    "#make and store predictions for the two models\n",
    "test_data, SRL_predictions, SRLBERT_predictions = predict_and_store(t, capability, testcase_name, \\\n",
    "                                                                    expect_arg2_verb0, format_srl_verb0, \\\n",
    "                                                                    predict_srl, predict_srlbert, test_data, \\\n",
    "                                                                    SRL_predictions, SRLBERT_predictions)"
   ]
  },
  {
   "cell_type": "code",
   "execution_count": 14,
   "metadata": {
    "scrolled": false
   },
   "outputs": [
    {
     "name": "stdout",
     "output_type": "stream",
     "text": [
      "SRL\n",
      "Predicting 100 examples\n",
      "Test cases:      100\n",
      "Fails (rate):    100 (100.0%)\n",
      "\n",
      "Example fails:\n",
      "[ARG0: Howard] [V: hit] [ARG1: the door] [ARG2: with the window]\n",
      "----\n",
      "[ARG0: Alexandra] [V: hit] [ARG1: the door] [ARG2: with the mailbox]\n",
      "----\n",
      "[ARG0: Howard] [V: hit] [ARG1: the door] [ARG2: with the holes]\n",
      "----\n",
      "SRL BERT\n",
      "Predicting 100 examples\n",
      "Test cases:      100\n",
      "Fails (rate):    100 (100.0%)\n",
      "\n",
      "Example fails:\n",
      "[ARG0: Howard] [V: hit] [ARG1: the door] [ARG2: with the window]\n",
      "----\n",
      "[ARG0: Bill] [V: hit] [ARG1: the door] [ARG2: with the bell]\n",
      "----\n",
      "[ARG0: Annie] [V: hit] [ARG1: the door] [ARG2: with the window]\n",
      "----\n"
     ]
    }
   ],
   "source": [
    "#create samples\n",
    "testcase_name = 'patient'\n",
    "t = editor.template(\"{first_name} hit the door with the {description}\", description=description, meta=True, nsamples=100)\n",
    "\n",
    "#make and store predictions for the two models\n",
    "test_data, SRL_predictions, SRLBERT_predictions = predict_and_store(t, capability, testcase_name, \\\n",
    "                                                                    expect_arg1_verb0, format_srl_verb0, \\\n",
    "                                                                    predict_srl, predict_srlbert, test_data, \\\n",
    "                                                                    SRL_predictions, SRLBERT_predictions)\n"
   ]
  },
  {
   "cell_type": "markdown",
   "metadata": {},
   "source": [
    "### Store all data to JSON"
   ]
  },
  {
   "cell_type": "code",
   "execution_count": 15,
   "metadata": {},
   "outputs": [],
   "source": [
    "#store the test sentences\n",
    "store_data(test_sents_path, test_data, new_file=True)\n",
    "#store the model predictions\n",
    "store_data(bert_pred_path, SRLBERT_predictions, new_file=True)\n",
    "store_data(srl_pred_path, SRL_predictions, new_file=True)"
   ]
  },
  {
   "cell_type": "code",
   "execution_count": null,
   "metadata": {},
   "outputs": [],
   "source": []
  }
 ],
 "metadata": {
  "kernelspec": {
   "display_name": "Python [conda env:allennlp37]",
   "language": "python",
   "name": "conda-env-allennlp37-py"
  },
  "language_info": {
   "codemirror_mode": {
    "name": "ipython",
    "version": 3
   },
   "file_extension": ".py",
   "mimetype": "text/x-python",
   "name": "python",
   "nbconvert_exporter": "python",
   "pygments_lexer": "ipython3",
   "version": "3.7.11"
  }
 },
 "nbformat": 4,
 "nbformat_minor": 4
}
